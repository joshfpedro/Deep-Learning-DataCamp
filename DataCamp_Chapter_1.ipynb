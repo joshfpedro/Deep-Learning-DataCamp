{
  "nbformat": 4,
  "nbformat_minor": 0,
  "metadata": {
    "colab": {
      "name": "DataCamp Chapter 1.ipynb",
      "version": "0.3.2",
      "provenance": [],
      "include_colab_link": true
    },
    "kernelspec": {
      "name": "python3",
      "display_name": "Python 3"
    }
  },
  "cells": [
    {
      "cell_type": "markdown",
      "metadata": {
        "id": "view-in-github",
        "colab_type": "text"
      },
      "source": [
        "<a href=\"https://colab.research.google.com/github/joshfpedro/Deep-Learning-DataCamp/blob/master/DataCamp_Chapter_1.ipynb\" target=\"_parent\"><img src=\"https://colab.research.google.com/assets/colab-badge.svg\" alt=\"Open In Colab\"/></a>"
      ]
    },
    {
      "metadata": {
        "id": "g2D7q5IMr187",
        "colab_type": "text"
      },
      "cell_type": "markdown",
      "source": [
        "## Example (Forward Propagation)"
      ]
    },
    {
      "metadata": {
        "id": "2LaI2lhfs3qg",
        "colab_type": "text"
      },
      "cell_type": "markdown",
      "source": [
        "![Banking transactions](https://github.com/joshfpedro/Deep-Learning-DataCamp/blob/master/images/forward%20propagation%20neural%20network.JPG?raw=true)"
      ]
    },
    {
      "metadata": {
        "id": "oa_OpamVr859",
        "colab_type": "code",
        "colab": {}
      },
      "cell_type": "code",
      "source": [
        "import numpy as np"
      ],
      "execution_count": 0,
      "outputs": []
    },
    {
      "metadata": {
        "id": "zRJyruRAoAdC",
        "colab_type": "code",
        "colab": {}
      },
      "cell_type": "code",
      "source": [
        "input_data= np.array([2, 3])\n",
        "weights = {'node_0': np.array([1, 1]),\n",
        "           'node_1': np.array([-1, 1]),\n",
        "           'output': np.array([2, -1])}\n",
        "node_0_value = (input_data * weights['node_0']).sum()\n",
        "node_1_value = (input_data * weights['node_1']).sum()"
      ],
      "execution_count": 0,
      "outputs": []
    },
    {
      "metadata": {
        "id": "ERWUAXZkpDpz",
        "colab_type": "code",
        "colab": {
          "base_uri": "https://localhost:8080/",
          "height": 34
        },
        "outputId": "86f013b3-e658-49f7-d0b7-2a77e90e1378"
      },
      "cell_type": "code",
      "source": [
        "hidden_layer_values = np.array([node_0_value, node_1_value])\n",
        "print(hidden_layer_values)"
      ],
      "execution_count": 8,
      "outputs": [
        {
          "output_type": "stream",
          "text": [
            "[5 1]\n"
          ],
          "name": "stdout"
        }
      ]
    },
    {
      "metadata": {
        "id": "2sx6wZvHpayp",
        "colab_type": "code",
        "colab": {
          "base_uri": "https://localhost:8080/",
          "height": 34
        },
        "outputId": "ea6e508d-0c56-4c8d-8df0-4851a60a576b"
      },
      "cell_type": "code",
      "source": [
        "output = (hidden_layer_values * weights['output']).sum()\n",
        "print(output)"
      ],
      "execution_count": 9,
      "outputs": [
        {
          "output_type": "stream",
          "text": [
            "9\n"
          ],
          "name": "stdout"
        }
      ]
    },
    {
      "metadata": {
        "id": "h73jPpOcsP4-",
        "colab_type": "text"
      },
      "cell_type": "markdown",
      "source": [
        "## Example (Activation functions)"
      ]
    },
    {
      "metadata": {
        "id": "HN6o23h9sjkg",
        "colab_type": "code",
        "colab": {
          "base_uri": "https://localhost:8080/",
          "height": 34
        },
        "outputId": "c6b1adc7-5fa8-4c4e-d8c7-096aa596f43b"
      },
      "cell_type": "code",
      "source": [
        "input_data= np.array([2, 3])\n",
        "weights = {'node_0': np.array([1, 1]),\n",
        "           'node_1': np.array([-1, 1]),\n",
        "           'output': np.array([2, -1])}\n",
        "\n",
        "node_0_input = (input_data * weights['node_0']).sum()\n",
        "node_0_output = np.tanh(node_0_input)\n",
        "\n",
        "node_1_input = (input_data * weights['node_1']).sum()\n",
        "node_1_output = np.tanh(node_1_input)\n",
        "\n",
        "hidden_layer_outputs = np.array([node_0_output, node_1_output])\n",
        "print(hidden_layer_outputs)"
      ],
      "execution_count": 4,
      "outputs": [
        {
          "output_type": "stream",
          "text": [
            "[0.9999092  0.76159416]\n"
          ],
          "name": "stdout"
        }
      ]
    },
    {
      "metadata": {
        "id": "_lyBwjWOEgCb",
        "colab_type": "code",
        "colab": {
          "base_uri": "https://localhost:8080/",
          "height": 34
        },
        "outputId": "e71ac844-293f-4cb6-f743-225576ced09c"
      },
      "cell_type": "code",
      "source": [
        "output = (hidden_layer_outputs * weights['output']).sum()\n",
        "print(output)"
      ],
      "execution_count": 5,
      "outputs": [
        {
          "output_type": "stream",
          "text": [
            "1.2382242525694254\n"
          ],
          "name": "stdout"
        }
      ]
    },
    {
      "metadata": {
        "id": "uMoMfJaiFZSo",
        "colab_type": "code",
        "colab": {}
      },
      "cell_type": "code",
      "source": [
        ""
      ],
      "execution_count": 0,
      "outputs": []
    }
  ]
}