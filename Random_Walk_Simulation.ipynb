{
  "nbformat": 4,
  "nbformat_minor": 0,
  "metadata": {
    "colab": {
      "name": "Random Walk Simulation",
      "provenance": [],
      "authorship_tag": "ABX9TyM/fN/0hxC/VLaqHvcJ9D5X",
      "include_colab_link": true
    },
    "kernelspec": {
      "name": "python3",
      "display_name": "Python 3"
    }
  },
  "cells": [
    {
      "cell_type": "markdown",
      "metadata": {
        "id": "view-in-github",
        "colab_type": "text"
      },
      "source": [
        "<a href=\"https://colab.research.google.com/github/joshfpedro/Deep-Learning-DataCamp/blob/master/Random_Walk_Simulation.ipynb\" target=\"_parent\"><img src=\"https://colab.research.google.com/assets/colab-badge.svg\" alt=\"Open In Colab\"/></a>"
      ]
    },
    {
      "cell_type": "markdown",
      "metadata": {
        "id": "74RQQubyd0Jk",
        "colab_type": "text"
      },
      "source": [
        "## Rules of the game"
      ]
    },
    {
      "cell_type": "markdown",
      "metadata": {
        "id": "MWPaSGuVeFoO",
        "colab_type": "text"
      },
      "source": [
        "![alt text](![alt text](https://))"
      ]
    },
    {
      "cell_type": "code",
      "metadata": {
        "id": "oBBWSJzTcebM",
        "colab_type": "code",
        "colab": {}
      },
      "source": [
        "import numpy as np\n",
        "\n",
        "np.random.seed(123)"
      ],
      "execution_count": 0,
      "outputs": []
    },
    {
      "cell_type": "code",
      "metadata": {
        "id": "gZIO7MBacvBV",
        "colab_type": "code",
        "colab": {}
      },
      "source": [
        "# Starting step\n",
        "step = 50\n",
        "\n",
        "# Roll the dice\n",
        "dice = np.random.randint(1,7)\n",
        "\n",
        "# Finish the control construct\n",
        "if dice <= 2 :\n",
        "    step = step - 1\n",
        "\n",
        "elif dice > 2 and dice != 6 :\n",
        "    step = step + 1\n",
        "\n",
        "else :\n",
        "    step = step + np.random.randomint(1,7)\n",
        "\n",
        "# Print out dice and step\n",
        "print(dice)\n",
        "print(step)"
      ],
      "execution_count": 0,
      "outputs": []
    }
  ]
}