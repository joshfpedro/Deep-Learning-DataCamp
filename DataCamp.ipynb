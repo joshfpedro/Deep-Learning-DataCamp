{
  "nbformat": 4,
  "nbformat_minor": 0,
  "metadata": {
    "colab": {
      "name": "DataCamp.ipynb",
      "version": "0.3.2",
      "provenance": [],
      "include_colab_link": true
    },
    "kernelspec": {
      "name": "python3",
      "display_name": "Python 3"
    }
  },
  "cells": [
    {
      "cell_type": "markdown",
      "metadata": {
        "id": "view-in-github",
        "colab_type": "text"
      },
      "source": [
        "<a href=\"https://colab.research.google.com/github/joshfpedro/Deep-Learning-DataCamp/blob/master/DataCamp.ipynb\" target=\"_parent\"><img src=\"https://colab.research.google.com/assets/colab-badge.svg\" alt=\"Open In Colab\"/></a>"
      ]
    },
    {
      "metadata": {
        "id": "g2D7q5IMr187",
        "colab_type": "text"
      },
      "cell_type": "markdown",
      "source": [
        "#Forward Propagation\n",
        "\n",
        "---\n",
        "\n"
      ]
    },
    {
      "metadata": {
        "id": "2LaI2lhfs3qg",
        "colab_type": "text"
      },
      "cell_type": "markdown",
      "source": [
        "![Banking transactions](https://github.com/joshfpedro/Deep-Learning-DataCamp/blob/master/images/forward%20propagation%20neural%20network.JPG?raw=true)"
      ]
    },
    {
      "metadata": {
        "id": "oa_OpamVr859",
        "colab_type": "code",
        "colab": {}
      },
      "cell_type": "code",
      "source": [
        "import numpy as np"
      ],
      "execution_count": 0,
      "outputs": []
    },
    {
      "metadata": {
        "id": "zRJyruRAoAdC",
        "colab_type": "code",
        "colab": {}
      },
      "cell_type": "code",
      "source": [
        "input_data= np.array([2, 3])\n",
        "weights = {'node_0': np.array([1, 1]),\n",
        "           'node_1': np.array([-1, 1]),\n",
        "           'output': np.array([2, -1])}\n",
        "node_0_value = (input_data * weights['node_0']).sum()\n",
        "node_1_value = (input_data * weights['node_1']).sum()"
      ],
      "execution_count": 0,
      "outputs": []
    },
    {
      "metadata": {
        "id": "ERWUAXZkpDpz",
        "colab_type": "code",
        "outputId": "86f013b3-e658-49f7-d0b7-2a77e90e1378",
        "colab": {
          "base_uri": "https://localhost:8080/",
          "height": 34
        }
      },
      "cell_type": "code",
      "source": [
        "hidden_layer_values = np.array([node_0_value, node_1_value])\n",
        "print(hidden_layer_values)"
      ],
      "execution_count": 0,
      "outputs": [
        {
          "output_type": "stream",
          "text": [
            "[5 1]\n"
          ],
          "name": "stdout"
        }
      ]
    },
    {
      "metadata": {
        "id": "2sx6wZvHpayp",
        "colab_type": "code",
        "outputId": "ea6e508d-0c56-4c8d-8df0-4851a60a576b",
        "colab": {
          "base_uri": "https://localhost:8080/",
          "height": 34
        }
      },
      "cell_type": "code",
      "source": [
        "output = (hidden_layer_values * weights['output']).sum()\n",
        "print(output)"
      ],
      "execution_count": 0,
      "outputs": [
        {
          "output_type": "stream",
          "text": [
            "9\n"
          ],
          "name": "stdout"
        }
      ]
    },
    {
      "metadata": {
        "id": "h73jPpOcsP4-",
        "colab_type": "text"
      },
      "cell_type": "markdown",
      "source": [
        "##Activation functions\n",
        "\n",
        "---\n",
        "\n"
      ]
    },
    {
      "metadata": {
        "id": "Emsajs51s8ZI",
        "colab_type": "text"
      },
      "cell_type": "markdown",
      "source": [
        "### Tanh Activation"
      ]
    },
    {
      "metadata": {
        "id": "0POjNSM2Bv0K",
        "colab_type": "text"
      },
      "cell_type": "markdown",
      "source": [
        ""
      ]
    },
    {
      "metadata": {
        "id": "HN6o23h9sjkg",
        "colab_type": "code",
        "outputId": "8522346f-0181-4ee1-ba7d-603a0c607fe1",
        "colab": {
          "base_uri": "https://localhost:8080/",
          "height": 35
        }
      },
      "cell_type": "code",
      "source": [
        "input_data = np.array([2, 3])\n",
        "weights = {'node_0': np.array([1, 1]),\n",
        "           'node_1': np.array([-1, 1]),\n",
        "           'output': np.array([2, -1])}\n",
        "\n",
        "node_0_input = (input_data * weights['node_0']).sum()\n",
        "node_0_output = np.tanh(node_0_input)\n",
        "\n",
        "node_1_input = (input_data * weights['node_1']).sum()\n",
        "node_1_output = np.tanh(node_1_input)\n",
        "\n",
        "hidden_layer_outputs = np.array([node_0_output, node_1_output])\n",
        "print(hidden_layer_outputs)"
      ],
      "execution_count": 4,
      "outputs": [
        {
          "output_type": "stream",
          "text": [
            "[0.9999092  0.76159416]\n"
          ],
          "name": "stdout"
        }
      ]
    },
    {
      "metadata": {
        "id": "_lyBwjWOEgCb",
        "colab_type": "code",
        "outputId": "e71ac844-293f-4cb6-f743-225576ced09c",
        "colab": {
          "base_uri": "https://localhost:8080/",
          "height": 34
        }
      },
      "cell_type": "code",
      "source": [
        "output = (hidden_layer_outputs * weights['output']).sum()\n",
        "print(output)"
      ],
      "execution_count": 0,
      "outputs": [
        {
          "output_type": "stream",
          "text": [
            "1.2382242525694254\n"
          ],
          "name": "stdout"
        }
      ]
    },
    {
      "metadata": {
        "id": "QfCb3OA3tPm8",
        "colab_type": "text"
      },
      "cell_type": "markdown",
      "source": [
        "###ReLU Activation"
      ]
    },
    {
      "metadata": {
        "id": "uMoMfJaiFZSo",
        "colab_type": "code",
        "colab": {
          "base_uri": "https://localhost:8080/",
          "height": 35
        },
        "outputId": "ed8fcaaa-ba46-4558-ec7d-0645d88840ac"
      },
      "cell_type": "code",
      "source": [
        "def relu(input):\n",
        "  '''Define your relu activation function here'''\n",
        "  # Calculate the value for the output of the relu function :output\n",
        "  output = max(0, input)\n",
        "  \n",
        "  # Return the value just calculated\n",
        "  return(output)\n",
        "\n",
        "# Calculate node 0 value: node_0_output\n",
        "node_0_input = (input_data * weights['node_0']).sum()\n",
        "node_0_output = relu(node_0_input)\n",
        "\n",
        "# Calculate node 1 value: node_1_output\n",
        "node_1_input = (input_data * weights['node_1']).sum()\n",
        "node_1_output = relu(node_1_input)\n",
        "\n",
        "# Put node values into array: hidden_layer_outputs\n",
        "hidden_layer_outputs = np.array([node_0_output,node_1_output])\n",
        "\n",
        "# Calculate model output (do not apply relu)\n",
        "model_output = (hidden_layer_outputs * weights['output']).sum()\n",
        "\n",
        "# Print model output\n",
        "print(model_output)"
      ],
      "execution_count": 5,
      "outputs": [
        {
          "output_type": "stream",
          "text": [
            "9\n"
          ],
          "name": "stdout"
        }
      ]
    },
    {
      "metadata": {
        "id": "ows11SM5x2pF",
        "colab_type": "code",
        "colab": {}
      },
      "cell_type": "code",
      "source": [
        ""
      ],
      "execution_count": 0,
      "outputs": []
    },
    {
      "metadata": {
        "id": "qgx_Xqf2xxm2",
        "colab_type": "text"
      },
      "cell_type": "markdown",
      "source": [
        "## Applying the network to many observations/rows of data"
      ]
    },
    {
      "metadata": {
        "id": "Va7LJ34Bx03V",
        "colab_type": "text"
      },
      "cell_type": "markdown",
      "source": [
        "You'll now define a function called `predict_with_network()` which will generate predictions for multiple data observations, which are pre-loaded as `input_data`. As before,` weights` are also pre-loaded. In addition, the `relu()` function you defined in the previous exercise has been pre-loaded."
      ]
    },
    {
      "metadata": {
        "id": "5UHWUz73DpO1",
        "colab_type": "code",
        "colab": {
          "base_uri": "https://localhost:8080/",
          "height": 90
        },
        "outputId": "76f9eb83-615e-4952-a1d1-f1736f2bcc79"
      },
      "cell_type": "code",
      "source": [
        "input_data = np.array([[3, 5],\n",
        "                        [ 1, -1],\n",
        "                        [0, 0],\n",
        "                        [8, 4]])\n",
        "\n",
        "weights = {'node_1': np.array([ 4, -5]),\n",
        "           'node_0': np.array([2, 4]),\n",
        "           'output': np.array([2, 7])}\n",
        "\n",
        "print(input_data)"
      ],
      "execution_count": 13,
      "outputs": [
        {
          "output_type": "stream",
          "text": [
            "[[ 3  5]\n",
            " [ 1 -1]\n",
            " [ 0  0]\n",
            " [ 8  4]]\n"
          ],
          "name": "stdout"
        }
      ]
    },
    {
      "metadata": {
        "id": "IktndKniGzXb",
        "colab_type": "code",
        "colab": {
          "base_uri": "https://localhost:8080/",
          "height": 35
        },
        "outputId": "ecad7196-56f0-4226-ce53-693de66a47ac"
      },
      "cell_type": "code",
      "source": [
        "input_data = ([np.array([3, 5]),\n",
        "                        np.array([ 1, -1]),\n",
        "                        np.array([0, 0]),\n",
        "                        np.array([8, 4])])\n",
        "\n",
        "weights = {'node_1': np.array([ 4, -5]),\n",
        "           'node_0': np.array([2, 4]),\n",
        "           'output': np.array([2, 7])}\n",
        "\n",
        "print(input_data)"
      ],
      "execution_count": 38,
      "outputs": [
        {
          "output_type": "stream",
          "text": [
            "[array([3, 5]), array([ 1, -1]), array([0, 0]), array([8, 4])]\n"
          ],
          "name": "stdout"
        }
      ]
    },
    {
      "metadata": {
        "id": "ODzTl1AayCb2",
        "colab_type": "code",
        "colab": {
          "base_uri": "https://localhost:8080/",
          "height": 35
        },
        "outputId": "41593419-2a88-444a-ed85-2060dad5925d"
      },
      "cell_type": "code",
      "source": [
        "# Define predict_with_network()\n",
        "def predict_with_network(input_data_row, weights):\n",
        "\n",
        "    # Calculate node 0 value\n",
        "    node_0_input = (input_data_row * weights['node_0']).sum()\n",
        "    node_0_output = relu(node_0_input)\n",
        "\n",
        "    # Calculate node 1 value\n",
        "    node_1_input = (input_data_row * weights['node_1']).sum()\n",
        "    node_1_output = relu(node_1_input)\n",
        "\n",
        "    # Put node values into array: hidden_layer_outputs\n",
        "    hidden_layer_outputs = np.array([node_0_output, node_1_output])\n",
        "    \n",
        "    # Calculate model output\n",
        "    input_to_final_layer = (hidden_layer_outputs * weights['output']).sum()\n",
        "    model_output = relu(input_to_final_layer)\n",
        "    \n",
        "    # Return model output\n",
        "    return(model_output)\n",
        "\n",
        "\n",
        "# Create empty list to store prediction results\n",
        "results = []\n",
        "for input_data_row in input_data:\n",
        "    # Append prediction to results\n",
        "    results.append(predict_with_network(input_data_row, weights))\n",
        "\n",
        "# Print results\n",
        "print(results)\n",
        "        "
      ],
      "execution_count": 14,
      "outputs": [
        {
          "output_type": "stream",
          "text": [
            "[52, 63, 0, 148]\n"
          ],
          "name": "stdout"
        }
      ]
    },
    {
      "metadata": {
        "id": "IojxnuiG0Mi0",
        "colab_type": "text"
      },
      "cell_type": "markdown",
      "source": [
        "## Multi-layer neural networks"
      ]
    },
    {
      "metadata": {
        "id": "x7ivV9vj0QS-",
        "colab_type": "text"
      },
      "cell_type": "markdown",
      "source": [
        "In this exercise, you'll write code to do forward propagation for a neural network with 2 hidden layers. Each hidden layer has two nodes. The input data has been preloaded as `input_data`. The nodes in the first hidden layer are called node_0_0 and node_0_1. Their weights are pre-loaded as `weights['node_0_0']` and `weights['node_0_1']`respectively.\n",
        "\n",
        "The nodes in the second hidden layer are called `node_1_0` and `node_1_1`. Their weights are pre-loaded as `weights['node_1_0']` and `weights['node_1_1']` respectively.\n",
        "\n",
        "We then create a model output from the hidden nodes using weights pre-loaded as `weights['output']`."
      ]
    },
    {
      "metadata": {
        "id": "IXH4iwkz_TNT",
        "colab_type": "text"
      },
      "cell_type": "markdown",
      "source": [
        "![alt text](https://raw.githubusercontent.com/joshfpedro/Deep-Learning-DataCamp/master/images/network%20with%202%20hidden%20layers.png)"
      ]
    },
    {
      "metadata": {
        "id": "EXJjVcqgAKns",
        "colab_type": "code",
        "colab": {}
      },
      "cell_type": "code",
      "source": [
        "input_data= np.array([3, 5])\n",
        "weights = {'node_0_0': np.array([2, 4]),\n",
        "           'node_0_1': np.array([4,-5]),\n",
        "           \n",
        "           'node_1_0': np.array([-1, 2]),\n",
        "           'node_1_1': np.array([1, 2]),\n",
        "          \n",
        "           'output': np.array([2, 7])}"
      ],
      "execution_count": 0,
      "outputs": []
    },
    {
      "metadata": {
        "id": "BfNxzBgw_jJL",
        "colab_type": "code",
        "colab": {
          "base_uri": "https://localhost:8080/",
          "height": 35
        },
        "outputId": "676a01ed-e4cf-497f-d34a-6388098bdee8"
      },
      "cell_type": "code",
      "source": [
        "def predict_with_network(input_data):\n",
        "    # Calculate node 0 in the first hidden layer\n",
        "    node_0_0_input = (input_data * weights['node_0_0']).sum()\n",
        "    node_0_0_output = relu(node_0_0_input)\n",
        "\n",
        "    # Calculate node 1 in the first hidden layer\n",
        "    node_0_1_input = (input_data * weights['node_0_1']).sum()\n",
        "    node_0_1_output = relu(node_0_1_input)\n",
        "\n",
        "    # Put node values into array: hidden_0_outputs\n",
        "    hidden_0_outputs = np.array([node_0_0_output, node_0_1_output])\n",
        "    \n",
        "    # Calculate node 0 in the second hidden layer\n",
        "    node_1_0_input = (hidden_0_outputs * weights['node_1_0']).sum()\n",
        "    node_1_0_output = relu(node_1_0_input)\n",
        "\n",
        "    # Calculate node 1 in the second hidden layer\n",
        "    node_1_1_input = (hidden_0_outputs * weights['node_1_1']).sum()\n",
        "    node_1_1_output = relu(node_1_1_input)\n",
        "\n",
        "    # Put node values into array: hidden_1_outputs\n",
        "    hidden_1_outputs = np.array([node_1_0_output, node_1_1_output])\n",
        "\n",
        "    # Calculate model output: model_output\n",
        "    model_output = (hidden_1_outputs * weights['output']).sum()\n",
        "    \n",
        "    # Return model_output\n",
        "    return(model_output)\n",
        "\n",
        "output = predict_with_network(input_data)\n",
        "print(output)\n"
      ],
      "execution_count": 10,
      "outputs": [
        {
          "output_type": "stream",
          "text": [
            "182\n"
          ],
          "name": "stdout"
        }
      ]
    },
    {
      "metadata": {
        "id": "GXPU2ZX0FZpk",
        "colab_type": "text"
      },
      "cell_type": "markdown",
      "source": [
        "#Optimizing a neural network with backward propagation"
      ]
    },
    {
      "metadata": {
        "id": "nh1Pb8YyFcYw",
        "colab_type": "text"
      },
      "cell_type": "markdown",
      "source": [
        "##Coding how weight changes affect accuracy"
      ]
    },
    {
      "metadata": {
        "id": "HVhAWiIxFtkh",
        "colab_type": "text"
      },
      "cell_type": "markdown",
      "source": [
        "![alt text](https://github.com/joshfpedro/Deep-Learning-DataCamp/blob/master/images/Coding%20how%20weight%20changes%20affect%20accuracy.png?raw=true)"
      ]
    },
    {
      "metadata": {
        "id": "vHe4nn4HFbzU",
        "colab_type": "code",
        "colab": {
          "base_uri": "https://localhost:8080/",
          "height": 54
        },
        "outputId": "c6b54d7e-65b4-4b9a-a595-39fbc81a1e3f"
      },
      "cell_type": "code",
      "source": [
        "# The data point you will make a prediction for\n",
        "input_data = np.array([0, 3])\n",
        "\n",
        "# Sample weights\n",
        "weights_0 = {'node_0': [2, 1],\n",
        "             'node_1': [1, 2],\n",
        "             'output': [1, 1]\n",
        "            }\n",
        "\n",
        "# The actual target value, used to calculate the error\n",
        "target_actual = 3\n",
        "\n",
        "# Make prediction using original weights\n",
        "model_output_0 = predict_with_network(input_data, weights_0)\n",
        "\n",
        "# Calculate error: error_0\n",
        "error_0 = model_output_0 - target_actual\n",
        "\n",
        "# Create weights that cause the network to make perfect prediction (3): weights_1\n",
        "weights_1 = {'node_0': [2, 1],\n",
        "             'node_1': [1, 2],\n",
        "             'output': [-1, 1]\n",
        "            }\n",
        "\n",
        "# Make prediction using new weights: model_output_1\n",
        "model_output_1 = predict_with_network(input_data, weights_1)\n",
        "\n",
        "# Calculate error: error_1\n",
        "error_1 = model_output_1 - target_actual\n",
        "\n",
        "# Print error_0 and error_1\n",
        "print(error_0)\n",
        "print(error_1)"
      ],
      "execution_count": 15,
      "outputs": [
        {
          "output_type": "stream",
          "text": [
            "6\n",
            "0\n"
          ],
          "name": "stdout"
        }
      ]
    },
    {
      "metadata": {
        "id": "gPjtmy9pI-P1",
        "colab_type": "text"
      },
      "cell_type": "markdown",
      "source": [
        "##Scaling up to multiple data points"
      ]
    },
    {
      "metadata": {
        "id": "_DxKk_f0JAZp",
        "colab_type": "code",
        "colab": {}
      },
      "cell_type": "code",
      "source": [
        "# The data point you will make a prediction for\n",
        "input_data = np.array([[0, 3], \n",
        "              [1, 2],\n",
        "              [-1, -2],\n",
        "              [4, 0]])\n",
        "\n",
        "# Sample weights\n",
        "weights_0 = {'node_0': [2, 1],\n",
        "             'node_1': [1, 2],\n",
        "             'output': [1, 1]\n",
        "            }\n",
        "\n",
        "weights_1 = {'node_0': [2, 1],\n",
        "             'node_1': [1, 1.5],\n",
        "             'output': [1, 1.5]\n",
        "            }\n",
        "\n",
        "# The actual target values, used to calculate the error\n",
        "target_actuals = [1, 3, 5, 7]"
      ],
      "execution_count": 0,
      "outputs": []
    },
    {
      "metadata": {
        "id": "3rmC2zjHKhr6",
        "colab_type": "code",
        "colab": {
          "base_uri": "https://localhost:8080/",
          "height": 54
        },
        "outputId": "37407eb8-a239-467f-a926-3cdfc4e40f78"
      },
      "cell_type": "code",
      "source": [
        "from sklearn.metrics import mean_squared_error\n",
        "\n",
        "# Create model_output_0 \n",
        "model_output_0 = []\n",
        "# Create model_output_1\n",
        "model_output_1 = []\n",
        "\n",
        "# Loop over input_data\n",
        "for row in input_data:\n",
        "    # Append prediction to model_output_0\n",
        "    model_output_0.append(predict_with_network(row, weights_0))\n",
        "    \n",
        "    # Append prediction to model_output_1\n",
        "    model_output_1.append(predict_with_network(row, weights_1))\n",
        "\n",
        "# Calculate the mean squared error for model_output_0: mse_0\n",
        "mse_0 = mean_squared_error(target_actuals, model_output_0)\n",
        "\n",
        "# Calculate the mean squared error for model_output_1: mse_1\n",
        "mse_1 = mean_squared_error(target_actuals, model_output_1)\n",
        "\n",
        "# Print mse_0 and mse_1\n",
        "print(\"Mean squared error with weights_0: %f\" %mse_0)\n",
        "print(\"Mean squared error with weights_1: %f\" %mse_1)"
      ],
      "execution_count": 23,
      "outputs": [
        {
          "output_type": "stream",
          "text": [
            "Mean squared error with weights_0: 37.500000\n",
            "Mean squared error with weights_1: 49.890625\n"
          ],
          "name": "stdout"
        }
      ]
    }
  ]
}